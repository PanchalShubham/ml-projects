{
 "cells": [
  {
   "cell_type": "markdown",
   "metadata": {},
   "source": [
    "# House price prediction  \n",
    "Given the size and number of bedrooms learn a model to predict the price of the house.  \n",
    "Use Gradient descent and Normal Equations method for Linear Regression.  \n",
    "Also demostrate the use of LinearRegression from sklearn!"
   ]
  },
  {
   "cell_type": "code",
   "execution_count": 182,
   "metadata": {},
   "outputs": [],
   "source": [
    "# necessary imports\n",
    "import numpy as np\n",
    "import pandas as pd\n",
    "import matplotlib.pyplot as plt\n",
    "import seaborn as sns\n",
    "%matplotlib inline"
   ]
  },
  {
   "cell_type": "code",
   "execution_count": 183,
   "metadata": {},
   "outputs": [
    {
     "data": {
      "text/html": [
       "<div>\n",
       "<style scoped>\n",
       "    .dataframe tbody tr th:only-of-type {\n",
       "        vertical-align: middle;\n",
       "    }\n",
       "\n",
       "    .dataframe tbody tr th {\n",
       "        vertical-align: top;\n",
       "    }\n",
       "\n",
       "    .dataframe thead th {\n",
       "        text-align: right;\n",
       "    }\n",
       "</style>\n",
       "<table border=\"1\" class=\"dataframe\">\n",
       "  <thead>\n",
       "    <tr style=\"text-align: right;\">\n",
       "      <th></th>\n",
       "      <th>size</th>\n",
       "      <th>bedrooms</th>\n",
       "      <th>price</th>\n",
       "    </tr>\n",
       "  </thead>\n",
       "  <tbody>\n",
       "    <tr>\n",
       "      <th>0</th>\n",
       "      <td>2104</td>\n",
       "      <td>3</td>\n",
       "      <td>399900</td>\n",
       "    </tr>\n",
       "    <tr>\n",
       "      <th>1</th>\n",
       "      <td>1600</td>\n",
       "      <td>3</td>\n",
       "      <td>329900</td>\n",
       "    </tr>\n",
       "  </tbody>\n",
       "</table>\n",
       "</div>"
      ],
      "text/plain": [
       "   size  bedrooms   price\n",
       "0  2104         3  399900\n",
       "1  1600         3  329900"
      ]
     },
     "execution_count": 183,
     "metadata": {},
     "output_type": "execute_result"
    }
   ],
   "source": [
    "# load the data\n",
    "data_set = pd.read_csv('house_price.csv')\n",
    "data_set.head(2)"
   ]
  },
  {
   "cell_type": "markdown",
   "metadata": {},
   "source": [
    "Given the size of the house and the number of bedrooms, we have to predict the price.  \n",
    "Let's fit a linear regression model to this problem as follows:  \n",
    "Let's consider the features size and bedrooms as $x_1$ and $x_2$ respectively then we have the following hypothesis function:  \n",
    "$house\\_price = h_\\theta(x_1, x_2) = \\theta_0 + \\theta_1x_1 + \\theta_2x_2$  "
   ]
  },
  {
   "cell_type": "code",
   "execution_count": 184,
   "metadata": {},
   "outputs": [
    {
     "name": "stdout",
     "output_type": "stream",
     "text": [
      "<class 'pandas.core.frame.DataFrame'>\n",
      "RangeIndex: 47 entries, 0 to 46\n",
      "Data columns (total 3 columns):\n",
      " #   Column    Non-Null Count  Dtype\n",
      "---  ------    --------------  -----\n",
      " 0   size      47 non-null     int64\n",
      " 1   bedrooms  47 non-null     int64\n",
      " 2   price     47 non-null     int64\n",
      "dtypes: int64(3)\n",
      "memory usage: 1.2 KB\n"
     ]
    }
   ],
   "source": [
    "# let us look at the information\n",
    "data_set.info()"
   ]
  },
  {
   "cell_type": "code",
   "execution_count": 185,
   "metadata": {},
   "outputs": [
    {
     "data": {
      "text/plain": [
       "size        0\n",
       "bedrooms    0\n",
       "price       0\n",
       "dtype: int64"
      ]
     },
     "execution_count": 185,
     "metadata": {},
     "output_type": "execute_result"
    }
   ],
   "source": [
    "# look for the missing data in the data-set\n",
    "data_set.isnull().sum()"
   ]
  },
  {
   "cell_type": "markdown",
   "metadata": {},
   "source": [
    "Luckily we don't have any missing values in our data-set!"
   ]
  },
  {
   "cell_type": "markdown",
   "metadata": {},
   "source": [
    "# Exploratory Data Analysis"
   ]
  },
  {
   "cell_type": "code",
   "execution_count": 186,
   "metadata": {},
   "outputs": [
    {
     "data": {
      "text/plain": [
       "<AxesSubplot:xlabel='price'>"
      ]
     },
     "execution_count": 186,
     "metadata": {},
     "output_type": "execute_result"
    },
    {
     "data": {
      "image/png": "[encoded data removed]",
      "text/plain": [
       "<Figure size 432x288 with 1 Axes>"
      ]
     },
     "metadata": {
      "needs_background": "light"
     },
     "output_type": "display_data"
    }
   ],
   "source": [
    "# distribution of prices\n",
    "sns.distplot(data_set['price'])"
   ]
  },
  {
   "cell_type": "code",
   "execution_count": 187,
   "metadata": {},
   "outputs": [
    {
     "data": {
      "text/plain": [
       "<AxesSubplot:xlabel='price'>"
      ]
     },
     "execution_count": 187,
     "metadata": {},
     "output_type": "execute_result"
    },
    {
     "data": {
      "image/png": "[encoded data removed]",
      "text/plain": [
       "<Figure size 432x288 with 1 Axes>"
      ]
     },
     "metadata": {
      "needs_background": "light"
     },
     "output_type": "display_data"
    }
   ],
   "source": [
    "# distribution of prices on log scale\n",
    "sns.distplot(np.log(data_set['price']))"
   ]
  },
  {
   "cell_type": "markdown",
   "metadata": {},
   "source": [
    "Log scale plot seems to be better normally distributed"
   ]
  },
  {
   "cell_type": "code",
   "execution_count": 188,
   "metadata": {},
   "outputs": [
    {
     "data": {
      "text/plain": [
       "<seaborn.axisgrid.JointGrid at 0x7fe326552ee0>"
      ]
     },
     "execution_count": 188,
     "metadata": {},
     "output_type": "execute_result"
    },
    {
     "data": {
      "image/png": "[encoded data removed]",
      "text/plain": [
       "<Figure size 432x432 with 3 Axes>"
      ]
     },
     "metadata": {
      "needs_background": "light"
     },
     "output_type": "display_data"
    }
   ],
   "source": [
    "# distribution of prices w.r.t house-size\n",
    "sns.jointplot(x='size', y='price', data=data_set)"
   ]
  },
  {
   "cell_type": "code",
   "execution_count": 189,
   "metadata": {},
   "outputs": [
    {
     "data": {
      "text/plain": [
       "<AxesSubplot:xlabel='bedrooms', ylabel='price'>"
      ]
     },
     "execution_count": 189,
     "metadata": {},
     "output_type": "execute_result"
    },
    {
     "data": {
      "image/png": "[encoded data removed]",
      "text/plain": [
       "<Figure size 432x288 with 1 Axes>"
      ]
     },
     "metadata": {
      "needs_background": "light"
     },
     "output_type": "display_data"
    }
   ],
   "source": [
    "# distribution w.r.t bedrooms\n",
    "sns.boxplot(x='bedrooms', y='price', data=data_set)"
   ]
  },
  {
   "cell_type": "code",
   "execution_count": 213,
   "metadata": {},
   "outputs": [
    {
     "data": {
      "text/plain": [
       "<seaborn.axisgrid.PairGrid at 0x7fe325da5400>"
      ]
     },
     "execution_count": 213,
     "metadata": {},
     "output_type": "execute_result"
    },
    {
     "data": {
      "image/png": "[encoded data removed]",
      "text/plain": [
       "<Figure size 720x720 with 20 Axes>"
      ]
     },
     "metadata": {
      "needs_background": "light"
     },
     "output_type": "display_data"
    }
   ],
   "source": [
    "sns.pairplot(data_set)"
   ]
  },
  {
   "cell_type": "code",
   "execution_count": 217,
   "metadata": {},
   "outputs": [
    {
     "data": {
      "text/plain": [
       "<seaborn.axisgrid.FacetGrid at 0x7fe32525ef70>"
      ]
     },
     "execution_count": 217,
     "metadata": {},
     "output_type": "execute_result"
    },
    {
     "data": {
      "image/png": "[encoded data removed]",
      "text/plain": [
       "<Figure size 360x360 with 1 Axes>"
      ]
     },
     "metadata": {
      "needs_background": "light"
     },
     "output_type": "display_data"
    }
   ],
   "source": [
    "# lmplot price and size\n",
    "sns.lmplot(x='size', y='price', data=data_set)"
   ]
  },
  {
   "cell_type": "markdown",
   "metadata": {},
   "source": [
    "## Maximum Likelihood Estimation\n",
    "Given the model $\\hat{y} = \\theta_0 + \\theta_1x_1 + \\theta_2x_2$ and the training set, we want to predict the parameters $\\theta_0, \\theta_1, \\theta_2$ such that our predicted values are as close to the actual value as possible or we want to minimize the root mean square error.  \n",
    "$RMSE = \\sqrt{\\frac{1}{m}\\sum_{i = 1}^{m} (\\hat{y}_i - y_i)^2}$  \n",
    "where $m$ is the number of traning samples, $n$ is the number of features, $\\hat{y}_i$  $y_i$ are the predicted and actual values of the $i^{th}$ training sample.   \n"
   ]
  },
  {
   "cell_type": "markdown",
   "metadata": {},
   "source": [
    "## Gradient descent method\n",
    "We note that minimizing the root mean square error is same as minimizing the normalized mean squared error i.e.  \n",
    "$J(\\theta_0, \\theta_1, \\theta_2) = \\frac{1}{2m}\\sum_{i=1}^{m}(\\hat{y}_i - y_i)^2$ which is our cost function.  \n",
    "Now for the gradient descent method we start with some random $(\\theta_0, \\theta_1, \\theta_2)$ and iteratively perform the following:  \n",
    "$\\theta_j := \\theta_j - \\alpha \\frac{\\partial}{\\partial \\theta_j}J(\\theta_0, \\theta_1, \\theta_2)$  \n",
    "to reach to the optimum value i.e. the paramters $(\\theta_0, \\theta_1, \\theta_2)$ which minimizes the cost function.  \n",
    "Now the only thing we need to decide is the learning rate $\\alpha$ so we need to perform some analysis.  "
   ]
  },
  {
   "cell_type": "markdown",
   "metadata": {},
   "source": [
    "If we consider a dummy features $x_0 = 1$ for all training samples then we have the following:  \n",
    "$\\frac{\\partial}{\\partial \\theta_j}J(\\theta_0, \\theta_1, \\theta_2) = \\frac{1}{m}\\sum_{i = 1}^{m} (\\theta_0x_0^i + \\theta_1x_1^i + \\theta_2x_2^i - y_i)^2 x_j^i$ where $x_j^i$ denotes the $j^{th}$ feature of $i^{th}$ training sample.  "
   ]
  },
  {
   "cell_type": "markdown",
   "metadata": {},
   "source": [
    "Now we have the following:  \n",
    "$\\theta_j := \\theta_j - \\alpha \\frac{1}{m}\\sum_{i = 1}^{m} (\\theta_0x_0^i + \\theta_1x_1^i + \\theta_2x_2^i - y_i)^2 x_j^i$  \n"
   ]
  },
  {
   "cell_type": "markdown",
   "metadata": {},
   "source": [
    "Specifically we can write as follows:  \n",
    "$ \\theta_0 := \\theta_0 - \\alpha \\frac{1}{m} \\sum_{i = 1}^{m} (\\theta_0 x_0^i + \\theta_1 x_1^i + \\theta_2x_2^i - y_i)^2 x_0^i$  \n",
    "$ \\theta_1 := \\theta_1 - \\alpha \\frac{1}{m} \\sum_{i = 1}^{m} (\\theta_0 x_0^i + \\theta_1 x_1^i + \\theta_2x_2^i - y_i)^2 x_1^i$  \n",
    "$ \\theta_2 := \\theta_2 - \\alpha \\frac{1}{m} \\sum_{i = 1}^{m} (\\theta_0 x_0^i + \\theta_1 x_1^i + \\theta_2x_2^i - y_i)^2 x_2^i$  \n"
   ]
  },
  {
   "cell_type": "markdown",
   "metadata": {},
   "source": [
    "For sake of generalization we write the source code w.r.t $n$ features   \n",
    "(excluding the $x_0$ which is dummy features taking a value of 1 for all inputs).  \n",
    "The following function computes $(\\theta_0x_0 + \\theta_1x_1 + ... + \\theta_nx_n - y)^2 x_j^i$ for a given training sample"
   ]
  },
  {
   "cell_type": "code",
   "execution_count": 192,
   "metadata": {},
   "outputs": [],
   "source": [
    "# computes the partial derivative submission term\n",
    "def partial_derivative_sum_term(thetas, x_i, y_i, x_j_i):\n",
    "    sum = 0.0 # stores the sum\n",
    "    N = len(x_i) # compute the number of features (including the x0)\n",
    "    for k in range(N):\n",
    "        sum = sum + thetas[k] * x_i[k] # for every sample add theta_i * x_i\n",
    "    # subtract the actual value\n",
    "    sum = sum - y_i\n",
    "    # take the square \n",
    "    sum = sum**2\n",
    "    # multiply the factor\n",
    "    sum = sum * x_j_i\n",
    "    # return the computed factor\n",
    "    return sum"
   ]
  },
  {
   "cell_type": "markdown",
   "metadata": {},
   "source": [
    "The following function computes the partial derivative i.e.  \n",
    "$\\frac{1}{m}\\sum_{i = 1}^{m} (\\theta_0x_0^i + \\theta_1x_1^i + \\theta_2x_2^i + ... + \\theta_nx_n^i - y_i)^2 x_j^i$  \n"
   ]
  },
  {
   "cell_type": "code",
   "execution_count": 193,
   "metadata": {},
   "outputs": [],
   "source": [
    "def partial_derivative(thetas, xs, ys, j):\n",
    "    M = len(ys) # get the number of training samples\n",
    "    sum = 0.0 # stores the submission value\n",
    "    for i in range(M): # iterate through all samples\n",
    "        x_i = xs.iloc[i] # get the ith training input\n",
    "        y_i = ys.iloc[i] # get the ith training output\n",
    "        x_j_i = x_i[j] # get the jth coefficient\n",
    "        sum = sum + partial_derivative_sum_term(thetas, x_i, y_i, x_j_i)\n",
    "    # divide by the number of samples\n",
    "    sum = sum / M\n",
    "    # return the computed values\n",
    "    return sum"
   ]
  },
  {
   "cell_type": "markdown",
   "metadata": {},
   "source": [
    "The following function updates the $\\theta$ vector given the input and output i.e. for every $\\theta_j$ we perform:  \n",
    "$\\theta_j := \\theta_j - \\alpha \\frac{1}{m}\\sum_{i = 1}^{m} (\\theta_0x_0^i + \\theta_1x_1^i + \\theta_2x_2^i + ... + \\theta_nx_n^i - y_i)^2 x_j^i$  "
   ]
  },
  {
   "cell_type": "code",
   "execution_count": 194,
   "metadata": {},
   "outputs": [],
   "source": [
    "# define a that performs a single iteration of the gradient descent\n",
    "def gradient_descent_iteration(alpha, thetas, xs, ys):\n",
    "    # get the number of thetas\n",
    "    length = len(thetas)\n",
    "    # stores the new values of theta\n",
    "    updated_thetas = thetas.copy() \n",
    "    # iterate through each theta and update\n",
    "    for j in range(length):\n",
    "        updated_thetas[j] = thetas[j] - alpha * partial_derivative(thetas, xs, ys, j)\n",
    "    # return the updated thetas\n",
    "    return updated_thetas"
   ]
  },
  {
   "cell_type": "markdown",
   "metadata": {},
   "source": [
    "The following function computes the cost-function i.e.  \n",
    "$J(\\theta) = \\frac{1}{2m} \\sum_{i = 1}^{m} (\\theta_0 x_0^i + \\theta_1 x_1^i + ... + \\theta_n x_n^i - y_i)^2$"
   ]
  },
  {
   "cell_type": "code",
   "execution_count": 195,
   "metadata": {},
   "outputs": [],
   "source": [
    "def cost_value(thetas, xs, ys):\n",
    "    sum = 0.0 # stores the sum\n",
    "    M = len(ys) # get the number of training samples\n",
    "    for i in range(M): # iterate through each training sample\n",
    "        N = len(thetas) # get the number of features (including dummy feature)\n",
    "        temp_sum = 0.0 # stores the middle term\n",
    "        x = xs.iloc[i] # get the input set\n",
    "        y = ys.iloc[i] # corresponding scalar response\n",
    "        for j in range(N): # take pairwise product of theta and input\n",
    "            temp_sum = temp_sum + thetas[j] * x[j]\n",
    "        # subtract the actual value\n",
    "        error = temp_sum - y\n",
    "        # take the square\n",
    "        squared_error = error ** 2\n",
    "        sum = sum + squared_error\n",
    "    # take the normalized average\n",
    "    sum = sum / (2 * M)\n",
    "    # return the computed cost\n",
    "    return sum"
   ]
  },
  {
   "cell_type": "markdown",
   "metadata": {},
   "source": [
    "Now we try different-different values for alpha and plot the number of iterations vs the cost and observe the convergence of the cost function to achieve the optimum.  "
   ]
  },
  {
   "cell_type": "code",
   "execution_count": 196,
   "metadata": {},
   "outputs": [
    {
     "data": {
      "text/html": [
       "<div>\n",
       "<style scoped>\n",
       "    .dataframe tbody tr th:only-of-type {\n",
       "        vertical-align: middle;\n",
       "    }\n",
       "\n",
       "    .dataframe tbody tr th {\n",
       "        vertical-align: top;\n",
       "    }\n",
       "\n",
       "    .dataframe thead th {\n",
       "        text-align: right;\n",
       "    }\n",
       "</style>\n",
       "<table border=\"1\" class=\"dataframe\">\n",
       "  <thead>\n",
       "    <tr style=\"text-align: right;\">\n",
       "      <th></th>\n",
       "      <th>size</th>\n",
       "      <th>bedrooms</th>\n",
       "      <th>price</th>\n",
       "      <th>dummy</th>\n",
       "    </tr>\n",
       "  </thead>\n",
       "  <tbody>\n",
       "    <tr>\n",
       "      <th>0</th>\n",
       "      <td>2104</td>\n",
       "      <td>3</td>\n",
       "      <td>399900</td>\n",
       "      <td>1</td>\n",
       "    </tr>\n",
       "    <tr>\n",
       "      <th>1</th>\n",
       "      <td>1600</td>\n",
       "      <td>3</td>\n",
       "      <td>329900</td>\n",
       "      <td>1</td>\n",
       "    </tr>\n",
       "    <tr>\n",
       "      <th>2</th>\n",
       "      <td>2400</td>\n",
       "      <td>3</td>\n",
       "      <td>369000</td>\n",
       "      <td>1</td>\n",
       "    </tr>\n",
       "    <tr>\n",
       "      <th>3</th>\n",
       "      <td>1416</td>\n",
       "      <td>2</td>\n",
       "      <td>232000</td>\n",
       "      <td>1</td>\n",
       "    </tr>\n",
       "    <tr>\n",
       "      <th>4</th>\n",
       "      <td>3000</td>\n",
       "      <td>4</td>\n",
       "      <td>539900</td>\n",
       "      <td>1</td>\n",
       "    </tr>\n",
       "  </tbody>\n",
       "</table>\n",
       "</div>"
      ],
      "text/plain": [
       "   size  bedrooms   price  dummy\n",
       "0  2104         3  399900      1\n",
       "1  1600         3  329900      1\n",
       "2  2400         3  369000      1\n",
       "3  1416         2  232000      1\n",
       "4  3000         4  539900      1"
      ]
     },
     "execution_count": 196,
     "metadata": {},
     "output_type": "execute_result"
    }
   ],
   "source": [
    "# as we have now observed that we need a dummy input having values 1 for all data\n",
    "# so let's go ahead and add that dummy input\n",
    "data_set['dummy'] = 1\n",
    "data_set.head()"
   ]
  },
  {
   "cell_type": "markdown",
   "metadata": {},
   "source": [
    "Let's use first fetch the input and output from the data-set and add dummy input and reset the columns to 0, 1, ..., and create a split "
   ]
  },
  {
   "cell_type": "code",
   "execution_count": 197,
   "metadata": {},
   "outputs": [
    {
     "data": {
      "text/html": [
       "<div>\n",
       "<style scoped>\n",
       "    .dataframe tbody tr th:only-of-type {\n",
       "        vertical-align: middle;\n",
       "    }\n",
       "\n",
       "    .dataframe tbody tr th {\n",
       "        vertical-align: top;\n",
       "    }\n",
       "\n",
       "    .dataframe thead th {\n",
       "        text-align: right;\n",
       "    }\n",
       "</style>\n",
       "<table border=\"1\" class=\"dataframe\">\n",
       "  <thead>\n",
       "    <tr style=\"text-align: right;\">\n",
       "      <th></th>\n",
       "      <th>1</th>\n",
       "      <th>2</th>\n",
       "      <th>0</th>\n",
       "    </tr>\n",
       "  </thead>\n",
       "  <tbody>\n",
       "    <tr>\n",
       "      <th>0</th>\n",
       "      <td>2104</td>\n",
       "      <td>3</td>\n",
       "      <td>1</td>\n",
       "    </tr>\n",
       "    <tr>\n",
       "      <th>1</th>\n",
       "      <td>1600</td>\n",
       "      <td>3</td>\n",
       "      <td>1</td>\n",
       "    </tr>\n",
       "    <tr>\n",
       "      <th>2</th>\n",
       "      <td>2400</td>\n",
       "      <td>3</td>\n",
       "      <td>1</td>\n",
       "    </tr>\n",
       "    <tr>\n",
       "      <th>3</th>\n",
       "      <td>1416</td>\n",
       "      <td>2</td>\n",
       "      <td>1</td>\n",
       "    </tr>\n",
       "    <tr>\n",
       "      <th>4</th>\n",
       "      <td>3000</td>\n",
       "      <td>4</td>\n",
       "      <td>1</td>\n",
       "    </tr>\n",
       "  </tbody>\n",
       "</table>\n",
       "</div>"
      ],
      "text/plain": [
       "      1  2  0\n",
       "0  2104  3  1\n",
       "1  1600  3  1\n",
       "2  2400  3  1\n",
       "3  1416  2  1\n",
       "4  3000  4  1"
      ]
     },
     "execution_count": 197,
     "metadata": {},
     "output_type": "execute_result"
    }
   ],
   "source": [
    "\n",
    "# get the input and the outputs from the data-set\n",
    "x = pd.DataFrame(data_set[['size', 'bedrooms']])\n",
    "# reset the column names\n",
    "x.columns = [1, 2]\n",
    "# add the dummy input\n",
    "x[0] = 1\n",
    "# checkout the finalized input data-frame\n",
    "x.head()"
   ]
  },
  {
   "cell_type": "code",
   "execution_count": 198,
   "metadata": {},
   "outputs": [
    {
     "data": {
      "text/plain": [
       "0    399900\n",
       "1    329900\n",
       "2    369000\n",
       "3    232000\n",
       "4    539900\n",
       "Name: price, dtype: int64"
      ]
     },
     "execution_count": 198,
     "metadata": {},
     "output_type": "execute_result"
    }
   ],
   "source": [
    "# next we fetch the outputs\n",
    "y = data_set['price']\n",
    "# checkout the outputs\n",
    "y.head()"
   ]
  },
  {
   "cell_type": "code",
   "execution_count": 199,
   "metadata": {},
   "outputs": [
    {
     "name": "stdout",
     "output_type": "stream",
     "text": [
      "(37, 3)\n",
      "(10, 3)\n"
     ]
    }
   ],
   "source": [
    "# next we split the data-set into training and testing\n",
    "from sklearn.model_selection import train_test_split\n",
    "X_train, X_test, y_train, y_test = train_test_split(x, y, test_size=0.2, random_state=101)\n",
    "print(X_train.shape)\n",
    "print(X_test.shape)"
   ]
  },
  {
   "cell_type": "markdown",
   "metadata": {},
   "source": [
    "So we have 37 training samples and 10 testing samples."
   ]
  },
  {
   "cell_type": "markdown",
   "metadata": {},
   "source": [
    "For the gradient descent method to work faster it's better that we scale all the inputs. Let's go ahead and scale the inputs.  "
   ]
  },
  {
   "cell_type": "code",
   "execution_count": 200,
   "metadata": {},
   "outputs": [
    {
     "name": "stdout",
     "output_type": "stream",
     "text": [
      "           1         2  0\n",
      "7  -0.803831 -0.319925  1\n",
      "21 -0.252859 -1.635170  1\n",
      "3  -0.816978 -1.635170  1\n",
      "38  2.528297  0.995321  1\n",
      "14 -0.993863 -0.319925  1\n",
      "7    -1.171700\n",
      "21   -0.755348\n",
      "3    -0.926347\n",
      "38    1.430464\n",
      "14   -0.718918\n",
      "Name: price, dtype: float64\n"
     ]
    }
   ],
   "source": [
    "# scale all inputs and outputs\n",
    "xs = X_train.copy()\n",
    "mu1 = xs[1].mean()\n",
    "std1 = xs[1].std()\n",
    "mu2 = xs[2].mean()\n",
    "std2 = xs[2].std()\n",
    "xs[1] = (xs[1] - mu1)/std1\n",
    "xs[2] = (xs[2] - mu2)/std2\n",
    "print(xs.head())\n",
    "ys = y_train.copy()\n",
    "mu = ys.mean()\n",
    "std = ys.std()\n",
    "ys = (ys - mu)/std\n",
    "print(ys.head())"
   ]
  },
  {
   "cell_type": "code",
   "execution_count": 201,
   "metadata": {},
   "outputs": [
    {
     "name": "stdout",
     "output_type": "stream",
     "text": [
      "[0.5759981690845911, 0.7357657496088867, 1.030870399745273, 1.623951240900005, 2.9936223406962186, 6.92713709717603, 23.034413386953087, 146.60010766143148, 3434.2666140623287, 1306340.783312346]\n"
     ]
    },
    {
     "data": {
      "text/plain": [
       "[<matplotlib.lines.Line2D at 0x7fe325fbdf70>]"
      ]
     },
     "execution_count": 201,
     "metadata": {},
     "output_type": "execute_result"
    },
    {
     "data": {
      "image/png": "[encoded data removed]",
      "text/plain": [
       "<Figure size 432x288 with 1 Axes>"
      ]
     },
     "metadata": {
      "needs_background": "light"
     },
     "output_type": "display_data"
    }
   ],
   "source": [
    "alpha = 0.1 # say we pick alpha = 0.1\n",
    "cost = [] # stores the cost after each iteration\n",
    "thetas = [0, 0, 0] # start with 0 value for each parameters\n",
    "for i in range(10):\n",
    "    thetas = gradient_descent_iteration(alpha, thetas, xs, ys)\n",
    "    ith_cost = cost_value(thetas, xs, ys)\n",
    "    cost.append(ith_cost)\n",
    "print(cost)\n",
    "plt.plot(range(10), cost)"
   ]
  },
  {
   "cell_type": "markdown",
   "metadata": {},
   "source": [
    "# Normal Equation Method\n",
    "If we have the following linear regression model  \n",
    "$\\hat{y} = \\sum_{i = 0}^{n} \\theta_i x_i$ being $x_0 = 1$ for all training samples.  \n",
    "then an optimal value of $\\theta = [\\theta_0, \\theta_1, ..., \\theta_n]$ can be computed as follows:  \n",
    "$\\theta = (X^TX)^{-1}X^Ty$"
   ]
  },
  {
   "cell_type": "code",
   "execution_count": 207,
   "metadata": {},
   "outputs": [
    {
     "name": "stdout",
     "output_type": "stream",
     "text": [
      "   dummy  size  bedrooms\n",
      "0      1  2104         3\n",
      "1      1  1600         3\n",
      "2      1  2400         3\n",
      "3      1  1416         2\n",
      "4      1  3000         4\n",
      "0    12.898970\n",
      "1    12.706545\n",
      "2    12.818552\n",
      "3    12.354493\n",
      "4    13.199139\n",
      "Name: price, dtype: float64\n"
     ]
    }
   ],
   "source": [
    "# let's fetch the input and output from the data-set\n",
    "x = data_set[['dummy', 'size', 'bedrooms']]\n",
    "y = np.log(data_set['price'])\n",
    "# append the dummy-input\n",
    "print(x.head())\n",
    "print(y.head())"
   ]
  },
  {
   "cell_type": "markdown",
   "metadata": {},
   "source": [
    "For the normal-equation method we need no feature scaling and we can simply proceed further for evaluating the value of theta.  Let's now split the data-set into training and testing.  "
   ]
  },
  {
   "cell_type": "code",
   "execution_count": 208,
   "metadata": {},
   "outputs": [
    {
     "name": "stdout",
     "output_type": "stream",
     "text": [
      "(37, 3)\n",
      "(10, 3)\n"
     ]
    }
   ],
   "source": [
    "# split the data-set into training and testing\n",
    "from sklearn.model_selection import train_test_split\n",
    "X_train, X_test, y_train, y_test = train_test_split(x, y, test_size=0.2, random_state=101)\n",
    "print(X_train.shape)\n",
    "print(X_test.shape)"
   ]
  },
  {
   "cell_type": "code",
   "execution_count": 209,
   "metadata": {},
   "outputs": [
    {
     "name": "stdout",
     "output_type": "stream",
     "text": [
      "[1.19108520e+01 3.55026346e-04 1.93179922e-02]\n"
     ]
    }
   ],
   "source": [
    "# get the x and the y\n",
    "x = X_train\n",
    "y = y_train\n",
    "# get the transpose\n",
    "xT = x.T\n",
    "# compute the values of thetas\n",
    "thetas = np.dot(np.dot(np.linalg.inv(np.dot(xT, x)), xT), y)\n",
    "print(thetas)"
   ]
  },
  {
   "cell_type": "code",
   "execution_count": 210,
   "metadata": {},
   "outputs": [
    {
     "data": {
      "text/plain": [
       "[12.478978825888722,\n",
       " 12.596137519982511,\n",
       " 12.899476588792433,\n",
       " 12.602381424656777,\n",
       " 12.25197042141263,\n",
       " 12.536848120244139,\n",
       " 12.394837581948638,\n",
       " 12.538268225627094,\n",
       " 12.418122751218366,\n",
       " 12.75569091876824]"
      ]
     },
     "execution_count": 210,
     "metadata": {},
     "output_type": "execute_result"
    }
   ],
   "source": [
    "# make predictions\n",
    "predictions = []\n",
    "length = len(y_test)\n",
    "for i in range(length):\n",
    "    x = X_test.iloc[i]\n",
    "    pred = np.dot(thetas, x.T)\n",
    "    predictions.append(pred)\n",
    "predictions"
   ]
  },
  {
   "cell_type": "code",
   "execution_count": 218,
   "metadata": {},
   "outputs": [
    {
     "data": {
      "text/plain": [
       "<AxesSubplot:ylabel='price'>"
      ]
     },
     "execution_count": 218,
     "metadata": {},
     "output_type": "execute_result"
    },
    {
     "data": {
      "image/png": "[encoded data removed]",
      "text/plain": [
       "<Figure size 432x288 with 1 Axes>"
      ]
     },
     "metadata": {
      "needs_background": "light"
     },
     "output_type": "display_data"
    }
   ],
   "source": [
    "# plot the predicted vs. actual values\n",
    "sns.scatterplot(predictions, y_test)"
   ]
  },
  {
   "cell_type": "code",
   "execution_count": 212,
   "metadata": {},
   "outputs": [
    {
     "name": "stdout",
     "output_type": "stream",
     "text": [
      "RMSE: 0.17353087502412656\n"
     ]
    }
   ],
   "source": [
    "# compute the stats of our prediction\n",
    "from sklearn.metrics import mean_squared_error\n",
    "mse = mean_squared_error(predictions, y_test)\n",
    "print(\"RMSE: {}\".format(np.sqrt(mse)))"
   ]
  },
  {
   "cell_type": "code",
   "execution_count": 220,
   "metadata": {},
   "outputs": [
    {
     "data": {
      "text/plain": [
       "241808.81227698294"
      ]
     },
     "execution_count": 220,
     "metadata": {},
     "output_type": "execute_result"
    }
   ],
   "source": [
    "# sample prediction on last item in our data-set\n",
    "x = [1, 1203, 3]\n",
    "test = thetas[0] * x[0] + thetas[1] * x[1] + thetas[2] * x[2]\n",
    "predicted_cost = np.exp(test)\n",
    "print(predicted_cost)"
   ]
  },
  {
   "cell_type": "markdown",
   "metadata": {},
   "source": [
    "Actual house price for (1203, 3) is 239500 and predicted price is 241808 which is quite closed to the actual house price!"
   ]
  },
  {
   "cell_type": "code",
   "execution_count": 224,
   "metadata": {},
   "outputs": [
    {
     "name": "stdout",
     "output_type": "stream",
     "text": [
      "35    0.050163\n",
      "20    0.155388\n",
      "42    0.242328\n",
      "30   -0.163021\n",
      "44    0.151814\n",
      "1    -0.169697\n",
      "43   -0.213361\n",
      "22    0.137863\n",
      "16   -0.193082\n",
      "39    0.188453\n",
      "Name: price, dtype: float64\n",
      "0.01868487818150406\n"
     ]
    }
   ],
   "source": [
    "# let's manually have a look at difference between the predicted and actual value\n",
    "# here we have small data-set so we can manually observe \n",
    "# otherwise visual representation is always there\n",
    "residual_errors = (predictions - y_test)\n",
    "print(residual_errors)\n",
    "print(\"Residual error mean: {}\".format(np.mean(residual_errors)))"
   ]
  },
  {
   "cell_type": "markdown",
   "metadata": {},
   "source": [
    "The mean of the residual errors is quite close to zero!"
   ]
  },
  {
   "cell_type": "markdown",
   "metadata": {},
   "source": [
    "# Python's built in LinearRegression from sklearn"
   ]
  },
  {
   "cell_type": "code",
   "execution_count": 227,
   "metadata": {},
   "outputs": [
    {
     "name": "stdout",
     "output_type": "stream",
     "text": [
      "   size  bedrooms\n",
      "0  2104         3\n",
      "1  1600         3\n",
      "2  2400         3\n",
      "3  1416         2\n",
      "4  3000         4\n",
      "0    12.898970\n",
      "1    12.706545\n",
      "2    12.818552\n",
      "3    12.354493\n",
      "4    13.199139\n",
      "Name: price, dtype: float64\n"
     ]
    }
   ],
   "source": [
    "# let's fetch the input and output from the data-set\n",
    "x = data_set[['size', 'bedrooms']]\n",
    "y = np.log(data_set['price'])\n",
    "# append the dummy-input\n",
    "print(x.head())\n",
    "print(y.head())"
   ]
  },
  {
   "cell_type": "code",
   "execution_count": 228,
   "metadata": {},
   "outputs": [
    {
     "name": "stdout",
     "output_type": "stream",
     "text": [
      "(37, 2)\n",
      "(10, 2)\n"
     ]
    }
   ],
   "source": [
    "# split the data-set into training and testing\n",
    "from sklearn.model_selection import train_test_split\n",
    "X_train, X_test, y_train, y_test = train_test_split(x, y, test_size=0.2, random_state=101)\n",
    "print(X_train.shape)\n",
    "print(X_test.shape)"
   ]
  },
  {
   "cell_type": "code",
   "execution_count": 229,
   "metadata": {},
   "outputs": [],
   "source": [
    "# create a linear regression model\n",
    "from sklearn.linear_model import LinearRegression\n",
    "model = LinearRegression()"
   ]
  },
  {
   "cell_type": "code",
   "execution_count": 230,
   "metadata": {},
   "outputs": [
    {
     "data": {
      "text/plain": [
       "LinearRegression()"
      ]
     },
     "execution_count": 230,
     "metadata": {},
     "output_type": "execute_result"
    }
   ],
   "source": [
    "# train the model\n",
    "model.fit(X_train, y_train)"
   ]
  },
  {
   "cell_type": "code",
   "execution_count": 232,
   "metadata": {},
   "outputs": [
    {
     "name": "stdout",
     "output_type": "stream",
     "text": [
      "[12.47897883 12.59613752 12.89947659 12.60238142 12.25197042 12.53684812\n",
      " 12.39483758 12.53826823 12.41812275 12.75569092]\n"
     ]
    }
   ],
   "source": [
    "# make predictions\n",
    "predictions = model.predict(X_test)\n",
    "print(predictions)"
   ]
  },
  {
   "cell_type": "code",
   "execution_count": 233,
   "metadata": {},
   "outputs": [
    {
     "data": {
      "text/plain": [
       "<AxesSubplot:ylabel='price'>"
      ]
     },
     "execution_count": 233,
     "metadata": {},
     "output_type": "execute_result"
    },
    {
     "data": {
      "image/png": "[encoded data removed]",
      "text/plain": [
       "<Figure size 432x288 with 1 Axes>"
      ]
     },
     "metadata": {
      "needs_background": "light"
     },
     "output_type": "display_data"
    }
   ],
   "source": [
    "# plot the predicted vs. actual values\n",
    "sns.scatterplot(predictions, y_test)"
   ]
  },
  {
   "cell_type": "code",
   "execution_count": 234,
   "metadata": {},
   "outputs": [
    {
     "name": "stdout",
     "output_type": "stream",
     "text": [
      "RMSE: 0.17353087502413403\n"
     ]
    }
   ],
   "source": [
    "# compute the stats of our prediction\n",
    "from sklearn.metrics import mean_squared_error\n",
    "mse = mean_squared_error(predictions, y_test)\n",
    "print(\"RMSE: {}\".format(np.sqrt(mse)))"
   ]
  },
  {
   "cell_type": "code",
   "execution_count": 237,
   "metadata": {},
   "outputs": [
    {
     "name": "stdout",
     "output_type": "stream",
     "text": [
      "241808.81227698294\n"
     ]
    }
   ],
   "source": [
    "# sample prediction on last item in our data-set\n",
    "x = [1, 1203, 3]\n",
    "test = thetas[0] * x[0] + thetas[1] * x[1] + thetas[2] * x[2]\n",
    "predicted_cost = np.exp(test)\n",
    "print(predicted_cost)"
   ]
  },
  {
   "cell_type": "markdown",
   "metadata": {},
   "source": [
    "Actual house price for (1203, 3) is 239500 and predicted price is 241808 which is quite closed to the actual house price!"
   ]
  },
  {
   "cell_type": "code",
   "execution_count": 238,
   "metadata": {},
   "outputs": [
    {
     "name": "stdout",
     "output_type": "stream",
     "text": [
      "35    0.050163\n",
      "20    0.155388\n",
      "42    0.242328\n",
      "30   -0.163021\n",
      "44    0.151814\n",
      "1    -0.169697\n",
      "43   -0.213361\n",
      "22    0.137863\n",
      "16   -0.193082\n",
      "39    0.188453\n",
      "Name: price, dtype: float64\n",
      "Residual error mean: 0.01868487818152751\n"
     ]
    }
   ],
   "source": [
    "# let's manually have a look at difference between the predicted and actual value\n",
    "# here we have small data-set so we can manually observe \n",
    "# otherwise visual representation is always there\n",
    "residual_errors = (predictions - y_test)\n",
    "print(residual_errors)\n",
    "print(\"Residual error mean: {}\".format(np.mean(residual_errors)))"
   ]
  },
  {
   "cell_type": "markdown",
   "metadata": {},
   "source": [
    "As we can see that sklearn's linear-regression gives us the same results as we have for the normal-equations method.  "
   ]
  },
  {
   "cell_type": "markdown",
   "metadata": {},
   "source": [
    "# ThankYou!"
   ]
  }
 ],
 "metadata": {
  "kernelspec": {
   "display_name": "Python 3",
   "language": "python",
   "name": "python3"
  },
  "language_info": {
   "codemirror_mode": {
    "name": "ipython",
    "version": 3
   },
   "file_extension": ".py",
   "mimetype": "text/x-python",
   "name": "python",
   "nbconvert_exporter": "python",
   "pygments_lexer": "ipython3",
   "version": "3.8.3"
  }
 },
 "nbformat": 4,
 "nbformat_minor": 4
}
