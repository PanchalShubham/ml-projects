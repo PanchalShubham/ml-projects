{
 "cells": [
  {
   "cell_type": "markdown",
   "metadata": {},
   "source": [
    "# House price prediction  \n",
    "Given the size and number of bedrooms learn a model to predict the price of the house.  \n",
    "Use Gradient descent and Normal Equations method for Linear Regression.  \n",
    "Also demostrate the use of LinearRegression from sklearn!"
   ]
  },
  {
   "cell_type": "code",
   "execution_count": 6,
   "metadata": {},
   "outputs": [],
   "source": [
    "# necessary imports\n",
    "import numpy as np\n",
    "import pandas as pd\n",
    "import matplotlib.pyplot as plt\n",
    "import seaborn as sns\n",
    "%matplotlib inline"
   ]
  },
  {
   "cell_type": "code",
   "execution_count": 7,
   "metadata": {},
   "outputs": [
    {
     "data": {
      "text/html": [
       "<div>\n",
       "<style scoped>\n",
       "    .dataframe tbody tr th:only-of-type {\n",
       "        vertical-align: middle;\n",
       "    }\n",
       "\n",
       "    .dataframe tbody tr th {\n",
       "        vertical-align: top;\n",
       "    }\n",
       "\n",
       "    .dataframe thead th {\n",
       "        text-align: right;\n",
       "    }\n",
       "</style>\n",
       "<table border=\"1\" class=\"dataframe\">\n",
       "  <thead>\n",
       "    <tr style=\"text-align: right;\">\n",
       "      <th></th>\n",
       "      <th>size</th>\n",
       "      <th>bedrooms</th>\n",
       "      <th>price</th>\n",
       "    </tr>\n",
       "  </thead>\n",
       "  <tbody>\n",
       "    <tr>\n",
       "      <th>0</th>\n",
       "      <td>2104</td>\n",
       "      <td>3</td>\n",
       "      <td>399900</td>\n",
       "    </tr>\n",
       "    <tr>\n",
       "      <th>1</th>\n",
       "      <td>1600</td>\n",
       "      <td>3</td>\n",
       "      <td>329900</td>\n",
       "    </tr>\n",
       "  </tbody>\n",
       "</table>\n",
       "</div>"
      ],
      "text/plain": [
       "   size  bedrooms   price\n",
       "0  2104         3  399900\n",
       "1  1600         3  329900"
      ]
     },
     "execution_count": 7,
     "metadata": {},
     "output_type": "execute_result"
    }
   ],
   "source": [
    "# load the data\n",
    "data_set = pd.read_csv('house_price.csv')\n",
    "data_set.head(2)"
   ]
  },
  {
   "cell_type": "markdown",
   "metadata": {},
   "source": [
    "Given the size of the house and the number of bedrooms, we have to predict the price.  \n",
    "Let's fit a linear regression model to this problem as follows:  \n",
    "Let's consider the features size and bedrooms as $x_1$ and $x_2$ respectively then we have the following hypothesis function:  \n",
    "$house\\_price = h_\\theta(x_1, x_2) = \\theta_0 + \\theta_1x_1 + \\theta_2x_2$  "
   ]
  },
  {
   "cell_type": "code",
   "execution_count": 8,
   "metadata": {},
   "outputs": [
    {
     "name": "stdout",
     "output_type": "stream",
     "text": [
      "<class 'pandas.core.frame.DataFrame'>\n",
      "RangeIndex: 47 entries, 0 to 46\n",
      "Data columns (total 3 columns):\n",
      " #   Column    Non-Null Count  Dtype\n",
      "---  ------    --------------  -----\n",
      " 0   size      47 non-null     int64\n",
      " 1   bedrooms  47 non-null     int64\n",
      " 2   price     47 non-null     int64\n",
      "dtypes: int64(3)\n",
      "memory usage: 1.2 KB\n"
     ]
    }
   ],
   "source": [
    "# let us look at the information\n",
    "data_set.info()"
   ]
  },
  {
   "cell_type": "code",
   "execution_count": 9,
   "metadata": {},
   "outputs": [
    {
     "data": {
      "text/plain": [
       "size        0\n",
       "bedrooms    0\n",
       "price       0\n",
       "dtype: int64"
      ]
     },
     "execution_count": 9,
     "metadata": {},
     "output_type": "execute_result"
    }
   ],
   "source": [
    "# look for the missing data in the data-set\n",
    "data_set.isnull().sum()"
   ]
  },
  {
   "cell_type": "markdown",
   "metadata": {},
   "source": [
    "Luckily we don't have any missing values in our data-set!"
   ]
  },
  {
   "cell_type": "markdown",
   "metadata": {},
   "source": [
    "# Exploratory Data Analysis"
   ]
  },
  {
   "cell_type": "code",
   "execution_count": 10,
   "metadata": {},
   "outputs": [
    {
     "data": {
      "text/plain": [
       "<AxesSubplot:xlabel='price'>"
      ]
     },
     "execution_count": 10,
     "metadata": {},
     "output_type": "execute_result"
    },
    {
     "data": {
      "image/png": "[encoded data removed]",
      "text/plain": [
       "<Figure size 432x288 with 1 Axes>"
      ]
     },
     "metadata": {
      "needs_background": "light"
     },
     "output_type": "display_data"
    }
   ],
   "source": [
    "# distribution of prices\n",
    "sns.distplot(data_set['price'])"
   ]
  },
  {
   "cell_type": "code",
   "execution_count": 11,
   "metadata": {},
   "outputs": [
    {
     "data": {
      "text/plain": [
       "<AxesSubplot:xlabel='price'>"
      ]
     },
     "execution_count": 11,
     "metadata": {},
     "output_type": "execute_result"
    },
    {
     "data": {
      "image/png": "[encoded data removed]",
      "text/plain": [
       "<Figure size 432x288 with 1 Axes>"
      ]
     },
     "metadata": {
      "needs_background": "light"
     },
     "output_type": "display_data"
    }
   ],
   "source": [
    "# distribution of prices on log scale\n",
    "sns.distplot(np.log(data_set['price']))"
   ]
  },
  {
   "cell_type": "markdown",
   "metadata": {},
   "source": [
    "Log scale plot seems to be better normally distributed"
   ]
  },
  {
   "cell_type": "code",
   "execution_count": 12,
   "metadata": {},
   "outputs": [
    {
     "data": {
      "text/plain": [
       "<seaborn.axisgrid.JointGrid at 0x7f38c6ce5220>"
      ]
     },
     "execution_count": 12,
     "metadata": {},
     "output_type": "execute_result"
    },
    {
     "data": {
      "image/png": "[encoded data removed]",
      "text/plain": [
       "<Figure size 432x432 with 3 Axes>"
      ]
     },
     "metadata": {
      "needs_background": "light"
     },
     "output_type": "display_data"
    }
   ],
   "source": [
    "# distribution of prices w.r.t house-size\n",
    "sns.jointplot(x='size', y='price', data=data_set)"
   ]
  },
  {
   "cell_type": "code",
   "execution_count": 13,
   "metadata": {},
   "outputs": [
    {
     "data": {
      "text/plain": [
       "<AxesSubplot:xlabel='bedrooms', ylabel='price'>"
      ]
     },
     "execution_count": 13,
     "metadata": {},
     "output_type": "execute_result"
    },
    {
     "data": {
      "image/png": "[encoded data removed]",
      "text/plain": [
       "<Figure size 432x288 with 1 Axes>"
      ]
     },
     "metadata": {
      "needs_background": "light"
     },
     "output_type": "display_data"
    }
   ],
   "source": [
    "# distribution w.r.t bedrooms\n",
    "sns.boxplot(x='bedrooms', y='price', data=data_set)"
   ]
  },
  {
   "cell_type": "code",
   "execution_count": 14,
   "metadata": {},
   "outputs": [
    {
     "data": {
      "text/plain": [
       "<seaborn.axisgrid.PairGrid at 0x7f38c6c14d60>"
      ]
     },
     "execution_count": 14,
     "metadata": {},
     "output_type": "execute_result"
    },
    {
     "data": {
      "image/png": "[encoded data removed]",
      "text/plain": [
       "<Figure size 540x540 with 12 Axes>"
      ]
     },
     "metadata": {
      "needs_background": "light"
     },
     "output_type": "display_data"
    }
   ],
   "source": [
    "sns.pairplot(data_set)"
   ]
  },
  {
   "cell_type": "code",
   "execution_count": 15,
   "metadata": {},
   "outputs": [
    {
     "data": {
      "text/plain": [
       "<seaborn.axisgrid.FacetGrid at 0x7f38c6b52460>"
      ]
     },
     "execution_count": 15,
     "metadata": {},
     "output_type": "execute_result"
    },
    {
     "data": {
      "image/png": "[encoded data removed]",
      "text/plain": [
       "<Figure size 360x360 with 1 Axes>"
      ]
     },
     "metadata": {
      "needs_background": "light"
     },
     "output_type": "display_data"
    }
   ],
   "source": [
    "# lmplot price and size\n",
    "sns.lmplot(x='size', y='price', data=data_set)"
   ]
  },
  {
   "cell_type": "markdown",
   "metadata": {},
   "source": [
    "## Maximum Likelihood Estimation\n",
    "Given the model $\\hat{y} = \\theta_0 + \\theta_1x_1 + \\theta_2x_2$ and the training set, we want to predict the parameters $\\theta_0, \\theta_1, \\theta_2$ such that our predicted values are as close to the actual value as possible or we want to minimize the root mean square error.  \n",
    "$RMSE = \\sqrt{\\frac{1}{m}\\sum_{i = 1}^{m} (\\hat{y}_i - y_i)^2}$  \n",
    "where $m$ is the number of traning samples, $n$ is the number of features, $\\hat{y}_i$  $y_i$ are the predicted and actual values of the $i^{th}$ training sample.   \n"
   ]
  },
  {
   "cell_type": "markdown",
   "metadata": {},
   "source": [
    "## Gradient descent method\n",
    "We note that minimizing the root mean square error is same as minimizing the normalized mean squared error i.e.  \n",
    "$J(\\theta_0, \\theta_1, \\theta_2) = \\frac{1}{2m}\\sum_{i=1}^{m}(\\hat{y}_i - y_i)^2$ which is our cost function.  \n",
    "Now for the gradient descent method we start with some random $(\\theta_0, \\theta_1, \\theta_2)$ and iteratively perform the following:  \n",
    "$\\theta_j := \\theta_j - \\alpha \\frac{\\partial}{\\partial \\theta_j}J(\\theta_0, \\theta_1, \\theta_2)$  \n",
    "to reach to the optimum value i.e. the paramters $(\\theta_0, \\theta_1, \\theta_2)$ which minimizes the cost function.  \n",
    "Now the only thing we need to decide is the learning rate $\\alpha$ so we need to perform some analysis.  "
   ]
  },
  {
   "cell_type": "markdown",
   "metadata": {},
   "source": [
    "If we consider a dummy features $x_0 = 1$ for all training samples then we have the following:  \n",
    "$\\frac{\\partial}{\\partial \\theta_j}J(\\theta_0, \\theta_1, \\theta_2) = \\frac{1}{m}\\sum_{i = 1}^{m} (\\theta_0x_0^i + \\theta_1x_1^i + \\theta_2x_2^i - y_i) x_j^i$ where $x_j^i$ denotes the $j^{th}$ feature of $i^{th}$ training sample.  "
   ]
  },
  {
   "cell_type": "markdown",
   "metadata": {},
   "source": [
    "Now we have the following:  \n",
    "$\\theta_j := \\theta_j - \\alpha \\frac{1}{m}\\sum_{i = 1}^{m} (\\theta_0x_0^i + \\theta_1x_1^i + \\theta_2x_2^i - y_i) x_j^i$  \n"
   ]
  },
  {
   "cell_type": "markdown",
   "metadata": {},
   "source": [
    "Specifically we can write as follows:  \n",
    "$ \\theta_0 := \\theta_0 - \\alpha \\frac{1}{m} \\sum_{i = 1}^{m} (\\theta_0 x_0^i + \\theta_1 x_1^i + \\theta_2x_2^i - y_i) x_0^i$  \n",
    "$ \\theta_1 := \\theta_1 - \\alpha \\frac{1}{m} \\sum_{i = 1}^{m} (\\theta_0 x_0^i + \\theta_1 x_1^i + \\theta_2x_2^i - y_i) x_1^i$  \n",
    "$ \\theta_2 := \\theta_2 - \\alpha \\frac{1}{m} \\sum_{i = 1}^{m} (\\theta_0 x_0^i + \\theta_1 x_1^i + \\theta_2x_2^i - y_i) x_2^i$  \n"
   ]
  },
  {
   "cell_type": "markdown",
   "metadata": {},
   "source": [
    "Furthermore we can write the expression for $\\theta_j$ as follows:  \n",
    "$\\theta_j := \\theta_j - \\alpha \\frac{1}{m} \\sum_{i=1}^{m} (\\hat{y}_i - y_i)x_j^i$ where $\\hat{y}_i = \\sum_{k=0}^{n} \\theta_k x_k^i$"
   ]
  },
  {
   "cell_type": "markdown",
   "metadata": {},
   "source": [
    "The following function computes the $\\hat{y} = \\sum_{k=0}^{n} \\theta_k x_k$"
   ]
  },
  {
   "cell_type": "code",
   "execution_count": 57,
   "metadata": {},
   "outputs": [],
   "source": [
    "# computes the value for y_hat given thetas and input x\n",
    "# assumes that theteas and x can be indexed using zero-based indexing\n",
    "# and further both thetas and x have the same dimension\n",
    "def y_hat(thetas, x):\n",
    "    sum = 0.0 # start with zero sum\n",
    "    n = len(thetas) # get the number of parameters\n",
    "    for k in range(n): # iterate through all pair theta_i*x_i\n",
    "        sum = sum + thetas[k] * x[k]\n",
    "    return sum # return the computed sum"
   ]
  },
  {
   "cell_type": "markdown",
   "metadata": {},
   "source": [
    "The following function computes the partial derivative term i.e.  \n",
    "$\\frac{\\partial}{\\partial \\theta_j} J(\\theta) = \\frac{1}{m} \\sum_{i=1}^{m} (\\hat{y}_i - y_i) x_j^i$"
   ]
  },
  {
   "cell_type": "code",
   "execution_count": 58,
   "metadata": {},
   "outputs": [],
   "source": [
    "# computes the partial derivative term\n",
    "def partial_derivative(thetas, xs, ys, j):\n",
    "    sum = 0.0 # store the sum\n",
    "    m = len(ys) # get the number of samples\n",
    "    for i in range(m): # iterate through each sample\n",
    "        x_i = xs.iloc[i] # get the ith training input\n",
    "        y_i = ys.iloc[i] # get the ith training output\n",
    "        x_j_i = x_i[j] # get the jth feature of ith training input\n",
    "        y_hat_i = y_hat(thetas, x_i) # compute the prediction \n",
    "        sum = sum + (y_hat_i - y_i) * x_j_i # add the term\n",
    "    sum = sum / m # take the average\n",
    "    return sum # return the computed partial derivative"
   ]
  },
  {
   "cell_type": "markdown",
   "metadata": {},
   "source": [
    "The following function performs a single iteration of the gradient descent method  \n",
    "$\\theta_j := \\theta_j - \\alpha \\frac{1}{m} \\sum_{i=1}^{m} (\\hat{y}_i - y_i)x_j^i$ for all j"
   ]
  },
  {
   "cell_type": "code",
   "execution_count": 59,
   "metadata": {},
   "outputs": [],
   "source": [
    "# updates every theta - performs a single iteration of gradient descent\n",
    "# and returns the updated values for thetas\n",
    "def gradient_descent_iteration(alpha, thetas, xs, ys):\n",
    "    n = len(thetas) # get the number of features\n",
    "    updated_thetas = [] # stores the updated thetas\n",
    "    for j in range(n): # iterate through each feature\n",
    "        value = thetas[j] - alpha * partial_derivative(thetas, xs, ys, j)\n",
    "        updated_thetas.append(value) # updated value of theta_j\n",
    "    # return the updated values of thetas\n",
    "    return updated_thetas"
   ]
  },
  {
   "cell_type": "markdown",
   "metadata": {},
   "source": [
    "The following function computes the cost-function i.e.  \n",
    "$J(\\theta) = \\frac{1}{2m} \\sum_{i = 1}^{m} (\\theta_0 x_0^i + \\theta_1 x_1^i + ... + \\theta_n x_n^i - y_i)^2 = \\frac{1}{2m} \\sum_{i = 1}^{m} (\\hat{y}_i - y_i)^2$"
   ]
  },
  {
   "cell_type": "code",
   "execution_count": 60,
   "metadata": {},
   "outputs": [],
   "source": [
    "def cost_value(thetas, xs, ys):\n",
    "    sum = 0.0 # stores the sum\n",
    "    m = len(ys) # get the number of training samples\n",
    "    for i in range(m): # iterate through each training sample\n",
    "        x_i = xs.iloc[i] # get the ith training input\n",
    "        y_i = ys.iloc[i] # get the ith training output\n",
    "        y_hat_i = y_hat(thetas, x_i) # compute the predicted value\n",
    "        error = y_hat_i - y_i # compute the error\n",
    "        sum = sum + (error ** 2) # add the squared-error\n",
    "    # take the normalized average\n",
    "    sum = sum / (2 * m)\n",
    "    # return the computed cost\n",
    "    return sum"
   ]
  },
  {
   "cell_type": "markdown",
   "metadata": {},
   "source": [
    "Now we try different-different values for alpha and plot the number of iterations vs the cost and observe the convergence of the cost function to achieve the optimum.  "
   ]
  },
  {
   "cell_type": "code",
   "execution_count": 61,
   "metadata": {},
   "outputs": [
    {
     "data": {
      "text/html": [
       "<div>\n",
       "<style scoped>\n",
       "    .dataframe tbody tr th:only-of-type {\n",
       "        vertical-align: middle;\n",
       "    }\n",
       "\n",
       "    .dataframe tbody tr th {\n",
       "        vertical-align: top;\n",
       "    }\n",
       "\n",
       "    .dataframe thead th {\n",
       "        text-align: right;\n",
       "    }\n",
       "</style>\n",
       "<table border=\"1\" class=\"dataframe\">\n",
       "  <thead>\n",
       "    <tr style=\"text-align: right;\">\n",
       "      <th></th>\n",
       "      <th>dummy</th>\n",
       "      <th>bedrooms</th>\n",
       "      <th>size</th>\n",
       "      <th>price</th>\n",
       "    </tr>\n",
       "  </thead>\n",
       "  <tbody>\n",
       "    <tr>\n",
       "      <th>0</th>\n",
       "      <td>1</td>\n",
       "      <td>3</td>\n",
       "      <td>2104</td>\n",
       "      <td>399900</td>\n",
       "    </tr>\n",
       "    <tr>\n",
       "      <th>1</th>\n",
       "      <td>1</td>\n",
       "      <td>3</td>\n",
       "      <td>1600</td>\n",
       "      <td>329900</td>\n",
       "    </tr>\n",
       "    <tr>\n",
       "      <th>2</th>\n",
       "      <td>1</td>\n",
       "      <td>3</td>\n",
       "      <td>2400</td>\n",
       "      <td>369000</td>\n",
       "    </tr>\n",
       "    <tr>\n",
       "      <th>3</th>\n",
       "      <td>1</td>\n",
       "      <td>2</td>\n",
       "      <td>1416</td>\n",
       "      <td>232000</td>\n",
       "    </tr>\n",
       "    <tr>\n",
       "      <th>4</th>\n",
       "      <td>1</td>\n",
       "      <td>4</td>\n",
       "      <td>3000</td>\n",
       "      <td>539900</td>\n",
       "    </tr>\n",
       "  </tbody>\n",
       "</table>\n",
       "</div>"
      ],
      "text/plain": [
       "   dummy  bedrooms  size   price\n",
       "0      1         3  2104  399900\n",
       "1      1         3  1600  329900\n",
       "2      1         3  2400  369000\n",
       "3      1         2  1416  232000\n",
       "4      1         4  3000  539900"
      ]
     },
     "execution_count": 61,
     "metadata": {},
     "output_type": "execute_result"
    }
   ],
   "source": [
    "# as we have now observed that we need a dummy input having values 1 for all data\n",
    "# so let's go ahead and add that dummy input\n",
    "data_set['dummy'] = 1\n",
    "# rearrange the columns for better readability\n",
    "data_set = data_set[['dummy', 'bedrooms', 'size', 'price']]\n",
    "# observe the data-set\n",
    "data_set.head()"
   ]
  },
  {
   "cell_type": "code",
   "execution_count": 115,
   "metadata": {},
   "outputs": [
    {
     "name": "stdout",
     "output_type": "stream",
     "text": [
      "   dummy  bedrooms  size\n",
      "0      1         3  2104\n",
      "1      1         3  1600\n",
      "2      1         3  2400\n",
      "3      1         2  1416\n",
      "4      1         4  3000\n",
      "0    399900\n",
      "1    329900\n",
      "2    369000\n",
      "3    232000\n",
      "4    539900\n",
      "Name: price, dtype: int64\n"
     ]
    }
   ],
   "source": [
    "# get the input and the outputs from the data-set\n",
    "x = pd.DataFrame(data_set[['dummy', 'bedrooms', 'size']])\n",
    "# checkout the finalized input data-frame\n",
    "print(x.head())\n",
    "# next we fetch the outputs\n",
    "y = data_set['price']\n",
    "# checkout the outputs\n",
    "print(y.head())"
   ]
  },
  {
   "cell_type": "markdown",
   "metadata": {},
   "source": [
    "An important point to keep in mind before performing the gradient descent is *feature scaling*  \n",
    "For as of now our features are not well-scaled so we go ahead and scale the features using the mean and the std.  "
   ]
  },
  {
   "cell_type": "code",
   "execution_count": 116,
   "metadata": {},
   "outputs": [
    {
     "name": "stdout",
     "output_type": "stream",
     "text": [
      "   dummy  bedrooms      size\n",
      "0      1 -0.223675  0.130010\n",
      "1      1 -0.223675 -0.504190\n",
      "2      1 -0.223675  0.502476\n",
      "3      1 -1.537767 -0.735723\n",
      "4      1  1.090417  1.257476\n",
      "0    0.475747\n",
      "1   -0.084074\n",
      "2    0.228626\n",
      "3   -0.867025\n",
      "4    1.595389\n",
      "Name: price, dtype: float64\n"
     ]
    }
   ],
   "source": [
    "mu1 = x['bedrooms'].mean()\n",
    "std1 = x['bedrooms'].std()\n",
    "mu2 = x['size'].mean()\n",
    "std2 = x['size'].std()\n",
    "# scale bedrooms feature\n",
    "x['bedrooms'] = (x['bedrooms'] - mu1)/std1\n",
    "# scale the size feature\n",
    "x['size'] = (x['size'] - mu2)/std2\n",
    "\n",
    "mu = y.mean()\n",
    "std = y.std()\n",
    "# scale y - outputs\n",
    "y = (y - mu)/std\n",
    "\n",
    "\n",
    "# preview scaled values\n",
    "print(x.head())\n",
    "print(y.head())"
   ]
  },
  {
   "cell_type": "markdown",
   "metadata": {},
   "source": [
    "You might observe that some of the values are negative for example price are negative, size are negative which doesn't make sense in real-world but remember these are scaled values and not the actual values!"
   ]
  },
  {
   "cell_type": "code",
   "execution_count": 117,
   "metadata": {},
   "outputs": [
    {
     "data": {
      "text/html": [
       "<div>\n",
       "<style scoped>\n",
       "    .dataframe tbody tr th:only-of-type {\n",
       "        vertical-align: middle;\n",
       "    }\n",
       "\n",
       "    .dataframe tbody tr th {\n",
       "        vertical-align: top;\n",
       "    }\n",
       "\n",
       "    .dataframe thead th {\n",
       "        text-align: right;\n",
       "    }\n",
       "</style>\n",
       "<table border=\"1\" class=\"dataframe\">\n",
       "  <thead>\n",
       "    <tr style=\"text-align: right;\">\n",
       "      <th></th>\n",
       "      <th>0</th>\n",
       "      <th>1</th>\n",
       "      <th>2</th>\n",
       "    </tr>\n",
       "  </thead>\n",
       "  <tbody>\n",
       "    <tr>\n",
       "      <th>0</th>\n",
       "      <td>1</td>\n",
       "      <td>-0.223675</td>\n",
       "      <td>0.130010</td>\n",
       "    </tr>\n",
       "    <tr>\n",
       "      <th>1</th>\n",
       "      <td>1</td>\n",
       "      <td>-0.223675</td>\n",
       "      <td>-0.504190</td>\n",
       "    </tr>\n",
       "    <tr>\n",
       "      <th>2</th>\n",
       "      <td>1</td>\n",
       "      <td>-0.223675</td>\n",
       "      <td>0.502476</td>\n",
       "    </tr>\n",
       "    <tr>\n",
       "      <th>3</th>\n",
       "      <td>1</td>\n",
       "      <td>-1.537767</td>\n",
       "      <td>-0.735723</td>\n",
       "    </tr>\n",
       "    <tr>\n",
       "      <th>4</th>\n",
       "      <td>1</td>\n",
       "      <td>1.090417</td>\n",
       "      <td>1.257476</td>\n",
       "    </tr>\n",
       "  </tbody>\n",
       "</table>\n",
       "</div>"
      ],
      "text/plain": [
       "   0         1         2\n",
       "0  1 -0.223675  0.130010\n",
       "1  1 -0.223675 -0.504190\n",
       "2  1 -0.223675  0.502476\n",
       "3  1 -1.537767 -0.735723\n",
       "4  1  1.090417  1.257476"
      ]
     },
     "execution_count": 117,
     "metadata": {},
     "output_type": "execute_result"
    }
   ],
   "source": [
    "# next for sake of simplicity we rename the columns to zero-based indexing\n",
    "x.columns = [0, 1, 2] # features will be x[0], x[1], x[2]\n",
    "x.head()"
   ]
  },
  {
   "cell_type": "markdown",
   "metadata": {},
   "source": [
    "Now let's split our data-set into training and testing samples!"
   ]
  },
  {
   "cell_type": "code",
   "execution_count": 118,
   "metadata": {},
   "outputs": [
    {
     "name": "stdout",
     "output_type": "stream",
     "text": [
      "(37, 3)\n",
      "(10, 3)\n"
     ]
    }
   ],
   "source": [
    "# next we split the data-set into training and testing\n",
    "from sklearn.model_selection import train_test_split\n",
    "X_train, X_test, y_train, y_test = train_test_split(x, y, test_size=0.2, random_state=101)\n",
    "print(X_train.shape)\n",
    "print(X_test.shape)"
   ]
  },
  {
   "cell_type": "markdown",
   "metadata": {},
   "source": [
    "So we have 37 training samples and 10 testing samples."
   ]
  },
  {
   "cell_type": "code",
   "execution_count": 120,
   "metadata": {},
   "outputs": [
    {
     "data": {
      "image/png": "[encoded data removed]",
      "text/plain": [
       "<Figure size 432x288 with 1 Axes>"
      ]
     },
     "metadata": {
      "needs_background": "light"
     },
     "output_type": "display_data"
    }
   ],
   "source": [
    "alphas = [1.0, 0.5, 0.3, 0.1, 0.01, 0.001] # choices for learning rate\n",
    "for alpha in alphas: # iterate through each alpha\n",
    "    cost = [] # stores the cost after each iteration\n",
    "    thetas = [0, 0, 0] # start with 0 value for each parameters\n",
    "    iterations = 100 # the max. number of iterations we wish to perform\n",
    "    for i in range(iterations):\n",
    "        # make a single iteration\n",
    "        thetas = gradient_descent_iteration(alpha, thetas, X_train, y_train)\n",
    "        ith_cost = cost_value(thetas, X_train, y_train) # compute the cost\n",
    "        cost.append(ith_cost) # append the ith cost\n",
    "    plt.plot(range(iterations), cost, label='alpha = {}'.format(alpha))\n",
    "plt.legend() # set the legend\n",
    "plt.show() # display the plot"
   ]
  },
  {
   "cell_type": "markdown",
   "metadata": {},
   "source": [
    "As evident from the above plot gradient descent coverges at different rate with different values of the learning rate ($\\alpha$). It seems like $\\alpha = 1.0$ converges very fast whereas $\\alpha = 0.001$ converges very slowly.  \n",
    "For our model $\\alpha = 0.1$ seems to be a good fit for the learning rate and we will continue our with this learning rate"
   ]
  },
  {
   "cell_type": "code",
   "execution_count": 122,
   "metadata": {},
   "outputs": [
    {
     "name": "stdout",
     "output_type": "stream",
     "text": [
      "[0.019124627999546347, 0.0067173350410786765, 0.8817491103330048]\n"
     ]
    }
   ],
   "source": [
    "# now let's find out the parameters with alpha = 0.1\n",
    "alpha = 0.1 # chooses from graphical analysis\n",
    "thetas = [0, 0, 0] # start with some random values\n",
    "iterations = 100 # max. number of iterations we wish to perform\n",
    "for i in range(iterations):\n",
    "    thetas = gradient_descent_iteration(alpha, thetas, X_train, y_train)\n",
    "print(thetas) # view the parameters"
   ]
  },
  {
   "cell_type": "code",
   "execution_count": 145,
   "metadata": {},
   "outputs": [],
   "source": [
    "# now let's make predictions\n",
    "predictions = []\n",
    "residual_errors = []\n",
    "n = len(y_test)\n",
    "for i in range(n):\n",
    "    x_i = X_test.iloc[i]\n",
    "    y_i = y_test.iloc[i]\n",
    "    y_hat_i = y_hat(thetas, x_i)\n",
    "    predictions.append(y_hat_i)\n",
    "    error = y_hat_i - y_i\n",
    "    residual_errors.append(error)"
   ]
  },
  {
   "cell_type": "code",
   "execution_count": 146,
   "metadata": {},
   "outputs": [
    {
     "data": {
      "image/png": "[encoded data removed]",
      "text/plain": [
       "<Figure size 432x288 with 1 Axes>"
      ]
     },
     "metadata": {
      "needs_background": "light"
     },
     "output_type": "display_data"
    }
   ],
   "source": [
    "# let's look at the plot of actual vs. predicted values\n",
    "sns.scatterplot(predictions, y_test)\n",
    "plt.xlabel('Predicted price')\n",
    "plt.ylabel('Actual price')\n",
    "plt.show()"
   ]
  },
  {
   "cell_type": "code",
   "execution_count": 147,
   "metadata": {},
   "outputs": [
    {
     "name": "stdout",
     "output_type": "stream",
     "text": [
      "          0\n",
      "0  0.116069\n",
      "1  0.458223\n",
      "2  0.866033\n",
      "3 -0.246470\n",
      "4  0.017986\n",
      "5 -0.342872\n",
      "6 -0.539565\n",
      "7  0.357344\n",
      "8 -0.422446\n",
      "9  0.632603\n",
      "Mean of residual errors := 0.08969065243250444\n",
      "Root Mean Squared Error := 0.4636333384475924\n"
     ]
    }
   ],
   "source": [
    "# let's look at the mean of the residual error and RMSE\n",
    "print(pd.DataFrame(residual_errors))\n",
    "print(\"Mean of residual errors := {}\".format(np.mean(residual_errors)))\n",
    "print(\"Root Mean Squared Error := {}\".format(np.sqrt(np.mean(np.power(residual_errors, 2)))))"
   ]
  },
  {
   "cell_type": "markdown",
   "metadata": {},
   "source": [
    "The mean of the residual errors is close to 0.1 (close enough to zero) and the RMSE is also reasonable!  \n",
    "Since our test-set is small let's also manually compare the predicted and actual prices.  "
   ]
  },
  {
   "cell_type": "code",
   "execution_count": 148,
   "metadata": {},
   "outputs": [
    {
     "name": "stdout",
     "output_type": "stream",
     "text": [
      "    actual_price  predicted_price\n",
      "35      249900.0    264413.305894\n",
      "20      252900.0    310196.183608\n",
      "42      314000.0    422288.729568\n",
      "30      349900.0    319081.423610\n",
      "44      179900.0    182148.998445\n",
      "1       329900.0    287027.272765\n",
      "43      299000.0    231532.875535\n",
      "22      242900.0    287582.216737\n",
      "16      299900.0    247077.443204\n",
      "39      287000.0    366100.652373\n"
     ]
    }
   ],
   "source": [
    "# re-scale the values to actual scale\n",
    "out = {'actual_price': [], 'predicted_price': []}\n",
    "predictions = np.array(predictions)\n",
    "out['predicted_price'] = (predictions * std) + mu\n",
    "out['actual_price'] = (y_test * std) + mu\n",
    "out_df = pd.DataFrame(out)\n",
    "print(out_df)"
   ]
  },
  {
   "cell_type": "markdown",
   "metadata": {},
   "source": [
    "The predicted values are not much but sufficiently close to the actual prices!"
   ]
  },
  {
   "cell_type": "markdown",
   "metadata": {},
   "source": [
    "# Normal Equation Method\n",
    "If we have the following linear regression model  \n",
    "$\\hat{y} = \\sum_{i = 0}^{n} \\theta_i x_i$ being $x_0 = 1$ for all training samples.  \n",
    "then an optimal value of $\\theta = [\\theta_0, \\theta_1, ..., \\theta_n]$ can be computed as follows:  \n",
    "$\\theta = (X^TX)^{-1}X^Ty$"
   ]
  },
  {
   "cell_type": "code",
   "execution_count": 149,
   "metadata": {},
   "outputs": [
    {
     "name": "stdout",
     "output_type": "stream",
     "text": [
      "   dummy  size  bedrooms\n",
      "0      1  2104         3\n",
      "1      1  1600         3\n",
      "2      1  2400         3\n",
      "3      1  1416         2\n",
      "4      1  3000         4\n",
      "0    12.898970\n",
      "1    12.706545\n",
      "2    12.818552\n",
      "3    12.354493\n",
      "4    13.199139\n",
      "Name: price, dtype: float64\n"
     ]
    }
   ],
   "source": [
    "# let's fetch the input and output from the data-set\n",
    "x = data_set[['dummy', 'size', 'bedrooms']]\n",
    "y = np.log(data_set['price'])\n",
    "# append the dummy-input\n",
    "print(x.head())\n",
    "print(y.head())"
   ]
  },
  {
   "cell_type": "markdown",
   "metadata": {},
   "source": [
    "For the normal-equation method we need no feature scaling and we can simply proceed further for evaluating the value of theta.  Let's now split the data-set into training and testing.  "
   ]
  },
  {
   "cell_type": "code",
   "execution_count": 150,
   "metadata": {},
   "outputs": [
    {
     "name": "stdout",
     "output_type": "stream",
     "text": [
      "(37, 3)\n",
      "(10, 3)\n"
     ]
    }
   ],
   "source": [
    "# split the data-set into training and testing\n",
    "from sklearn.model_selection import train_test_split\n",
    "X_train, X_test, y_train, y_test = train_test_split(x, y, test_size=0.2, random_state=101)\n",
    "print(X_train.shape)\n",
    "print(X_test.shape)"
   ]
  },
  {
   "cell_type": "code",
   "execution_count": 151,
   "metadata": {},
   "outputs": [
    {
     "name": "stdout",
     "output_type": "stream",
     "text": [
      "[1.19108520e+01 3.55026346e-04 1.93179922e-02]\n"
     ]
    }
   ],
   "source": [
    "# get the x and the y\n",
    "x = X_train\n",
    "y = y_train\n",
    "# get the transpose\n",
    "xT = x.T\n",
    "# compute the values of thetas\n",
    "thetas = np.dot(np.dot(np.linalg.inv(np.dot(xT, x)), xT), y)\n",
    "print(thetas)"
   ]
  },
  {
   "cell_type": "code",
   "execution_count": 152,
   "metadata": {},
   "outputs": [
    {
     "data": {
      "text/plain": [
       "[12.478978825888722,\n",
       " 12.596137519982511,\n",
       " 12.899476588792433,\n",
       " 12.602381424656777,\n",
       " 12.25197042141263,\n",
       " 12.536848120244139,\n",
       " 12.394837581948638,\n",
       " 12.538268225627094,\n",
       " 12.418122751218366,\n",
       " 12.75569091876824]"
      ]
     },
     "execution_count": 152,
     "metadata": {},
     "output_type": "execute_result"
    }
   ],
   "source": [
    "# make predictions\n",
    "predictions = []\n",
    "length = len(y_test)\n",
    "for i in range(length):\n",
    "    x = X_test.iloc[i]\n",
    "    pred = np.dot(thetas, x.T)\n",
    "    predictions.append(pred)\n",
    "predictions"
   ]
  },
  {
   "cell_type": "code",
   "execution_count": 153,
   "metadata": {},
   "outputs": [
    {
     "data": {
      "text/plain": [
       "<AxesSubplot:ylabel='price'>"
      ]
     },
     "execution_count": 153,
     "metadata": {},
     "output_type": "execute_result"
    },
    {
     "data": {
      "image/png": "[encoded data removed]",
      "text/plain": [
       "<Figure size 432x288 with 1 Axes>"
      ]
     },
     "metadata": {
      "needs_background": "light"
     },
     "output_type": "display_data"
    }
   ],
   "source": [
    "# plot the predicted vs. actual values\n",
    "sns.scatterplot(predictions, y_test)"
   ]
  },
  {
   "cell_type": "code",
   "execution_count": 154,
   "metadata": {},
   "outputs": [
    {
     "name": "stdout",
     "output_type": "stream",
     "text": [
      "RMSE: 0.17353087502412656\n"
     ]
    }
   ],
   "source": [
    "# compute the stats of our prediction\n",
    "from sklearn.metrics import mean_squared_error\n",
    "mse = mean_squared_error(predictions, y_test)\n",
    "print(\"RMSE: {}\".format(np.sqrt(mse)))"
   ]
  },
  {
   "cell_type": "code",
   "execution_count": 155,
   "metadata": {},
   "outputs": [
    {
     "name": "stdout",
     "output_type": "stream",
     "text": [
      "241808.81227698294\n"
     ]
    }
   ],
   "source": [
    "# sample prediction on last item in our data-set\n",
    "x = [1, 1203, 3]\n",
    "test = thetas[0] * x[0] + thetas[1] * x[1] + thetas[2] * x[2]\n",
    "predicted_cost = np.exp(test)\n",
    "print(predicted_cost)"
   ]
  },
  {
   "cell_type": "markdown",
   "metadata": {},
   "source": [
    "Actual house price for (1203, 3) is 239500 and predicted price is 241808 which is quite closed to the actual house price!"
   ]
  },
  {
   "cell_type": "code",
   "execution_count": 156,
   "metadata": {},
   "outputs": [
    {
     "name": "stdout",
     "output_type": "stream",
     "text": [
      "35    0.050163\n",
      "20    0.155388\n",
      "42    0.242328\n",
      "30   -0.163021\n",
      "44    0.151814\n",
      "1    -0.169697\n",
      "43   -0.213361\n",
      "22    0.137863\n",
      "16   -0.193082\n",
      "39    0.188453\n",
      "Name: price, dtype: float64\n",
      "Residual error mean: 0.01868487818150406\n"
     ]
    }
   ],
   "source": [
    "# let's manually have a look at difference between the predicted and actual value\n",
    "# here we have small data-set so we can manually observe \n",
    "# otherwise visual representation is always there\n",
    "residual_errors = (predictions - y_test)\n",
    "print(residual_errors)\n",
    "print(\"Residual error mean: {}\".format(np.mean(residual_errors)))"
   ]
  },
  {
   "cell_type": "markdown",
   "metadata": {},
   "source": [
    "The mean of the residual errors is quite close to zero!"
   ]
  },
  {
   "cell_type": "markdown",
   "metadata": {},
   "source": [
    "# Python's built in LinearRegression from sklearn"
   ]
  },
  {
   "cell_type": "code",
   "execution_count": 157,
   "metadata": {},
   "outputs": [
    {
     "name": "stdout",
     "output_type": "stream",
     "text": [
      "   size  bedrooms\n",
      "0  2104         3\n",
      "1  1600         3\n",
      "2  2400         3\n",
      "3  1416         2\n",
      "4  3000         4\n",
      "0    12.898970\n",
      "1    12.706545\n",
      "2    12.818552\n",
      "3    12.354493\n",
      "4    13.199139\n",
      "Name: price, dtype: float64\n"
     ]
    }
   ],
   "source": [
    "# let's fetch the input and output from the data-set\n",
    "x = data_set[['size', 'bedrooms']]\n",
    "y = np.log(data_set['price'])\n",
    "# append the dummy-input\n",
    "print(x.head())\n",
    "print(y.head())"
   ]
  },
  {
   "cell_type": "code",
   "execution_count": 158,
   "metadata": {},
   "outputs": [
    {
     "name": "stdout",
     "output_type": "stream",
     "text": [
      "(37, 2)\n",
      "(10, 2)\n"
     ]
    }
   ],
   "source": [
    "# split the data-set into training and testing\n",
    "from sklearn.model_selection import train_test_split\n",
    "X_train, X_test, y_train, y_test = train_test_split(x, y, test_size=0.2, random_state=101)\n",
    "print(X_train.shape)\n",
    "print(X_test.shape)"
   ]
  },
  {
   "cell_type": "code",
   "execution_count": 159,
   "metadata": {},
   "outputs": [],
   "source": [
    "# create a linear regression model\n",
    "from sklearn.linear_model import LinearRegression\n",
    "model = LinearRegression()"
   ]
  },
  {
   "cell_type": "code",
   "execution_count": 160,
   "metadata": {},
   "outputs": [
    {
     "data": {
      "text/plain": [
       "LinearRegression()"
      ]
     },
     "execution_count": 160,
     "metadata": {},
     "output_type": "execute_result"
    }
   ],
   "source": [
    "# train the model\n",
    "model.fit(X_train, y_train)"
   ]
  },
  {
   "cell_type": "code",
   "execution_count": 161,
   "metadata": {},
   "outputs": [
    {
     "name": "stdout",
     "output_type": "stream",
     "text": [
      "[12.47897883 12.59613752 12.89947659 12.60238142 12.25197042 12.53684812\n",
      " 12.39483758 12.53826823 12.41812275 12.75569092]\n"
     ]
    }
   ],
   "source": [
    "# make predictions\n",
    "predictions = model.predict(X_test)\n",
    "print(predictions)"
   ]
  },
  {
   "cell_type": "code",
   "execution_count": 162,
   "metadata": {},
   "outputs": [
    {
     "data": {
      "text/plain": [
       "<AxesSubplot:ylabel='price'>"
      ]
     },
     "execution_count": 162,
     "metadata": {},
     "output_type": "execute_result"
    },
    {
     "data": {
      "image/png": "[encoded data removed]",
      "text/plain": [
       "<Figure size 432x288 with 1 Axes>"
      ]
     },
     "metadata": {
      "needs_background": "light"
     },
     "output_type": "display_data"
    }
   ],
   "source": [
    "# plot the predicted vs. actual values\n",
    "sns.scatterplot(predictions, y_test)"
   ]
  },
  {
   "cell_type": "code",
   "execution_count": 163,
   "metadata": {},
   "outputs": [
    {
     "name": "stdout",
     "output_type": "stream",
     "text": [
      "RMSE: 0.17353087502413403\n"
     ]
    }
   ],
   "source": [
    "# compute the stats of our prediction\n",
    "from sklearn.metrics import mean_squared_error\n",
    "mse = mean_squared_error(predictions, y_test)\n",
    "print(\"RMSE: {}\".format(np.sqrt(mse)))"
   ]
  },
  {
   "cell_type": "code",
   "execution_count": 164,
   "metadata": {},
   "outputs": [
    {
     "name": "stdout",
     "output_type": "stream",
     "text": [
      "241808.81227698294\n"
     ]
    }
   ],
   "source": [
    "# sample prediction on last item in our data-set\n",
    "x = [1, 1203, 3]\n",
    "test = thetas[0] * x[0] + thetas[1] * x[1] + thetas[2] * x[2]\n",
    "predicted_cost = np.exp(test)\n",
    "print(predicted_cost)"
   ]
  },
  {
   "cell_type": "markdown",
   "metadata": {},
   "source": [
    "Actual house price for (1203, 3) is 239500 and predicted price is 241808 which is quite closed to the actual house price!"
   ]
  },
  {
   "cell_type": "code",
   "execution_count": 165,
   "metadata": {},
   "outputs": [
    {
     "name": "stdout",
     "output_type": "stream",
     "text": [
      "35    0.050163\n",
      "20    0.155388\n",
      "42    0.242328\n",
      "30   -0.163021\n",
      "44    0.151814\n",
      "1    -0.169697\n",
      "43   -0.213361\n",
      "22    0.137863\n",
      "16   -0.193082\n",
      "39    0.188453\n",
      "Name: price, dtype: float64\n",
      "Residual error mean: 0.01868487818152751\n"
     ]
    }
   ],
   "source": [
    "# let's manually have a look at difference between the predicted and actual value\n",
    "# here we have small data-set so we can manually observe \n",
    "# otherwise visual representation is always there\n",
    "residual_errors = (predictions - y_test)\n",
    "print(residual_errors)\n",
    "print(\"Residual error mean: {}\".format(np.mean(residual_errors)))"
   ]
  },
  {
   "cell_type": "markdown",
   "metadata": {},
   "source": [
    "As we can see that sklearn's linear-regression gives us the same results as we have for the normal-equations method.  "
   ]
  },
  {
   "cell_type": "markdown",
   "metadata": {},
   "source": [
    "# ThankYou!"
   ]
  }
 ],
 "metadata": {
  "kernelspec": {
   "display_name": "Python 3",
   "language": "python",
   "name": "python3"
  },
  "language_info": {
   "codemirror_mode": {
    "name": "ipython",
    "version": 3
   },
   "file_extension": ".py",
   "mimetype": "text/x-python",
   "name": "python",
   "nbconvert_exporter": "python",
   "pygments_lexer": "ipython3",
   "version": "3.8.3"
  }
 },
 "nbformat": 4,
 "nbformat_minor": 4
}
